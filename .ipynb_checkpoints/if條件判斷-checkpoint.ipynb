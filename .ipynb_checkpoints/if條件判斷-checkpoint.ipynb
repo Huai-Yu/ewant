{
 "cells": [
  {
   "cell_type": "code",
   "execution_count": 1,
   "metadata": {},
   "outputs": [
    {
     "name": "stdout",
     "output_type": "stream",
     "text": [
      ">> 我真的好棒\n",
      "我還在\n"
     ]
    }
   ],
   "source": [
    "message = input(\">> \")\n",
    "if (\"悲傷\" in message):\n",
    "    print(\"拍拍\")\n",
    "else:\n",
    "    print(\"我還在\")"
   ]
  },
  {
   "cell_type": "code",
   "execution_count": null,
   "metadata": {},
   "outputs": [],
   "source": [
    "message = input(\">> \")\n",
    "if (\"悲傷\" in message):\n",
    "    print(\"拍拍\")\n",
    "elif (\"開心\" in message):\n",
    "    print(\"讚讚\")\n",
    "else:\n",
    "    print(\"我還在\")"
   ]
  },
  {
   "cell_type": "code",
   "execution_count": null,
   "metadata": {},
   "outputs": [],
   "source": [
    "message = input(\">> \")\n",
    "if (\"悲傷\" in message):\n",
    "    print(\"拍拍\")\n",
    "elif (\"開心\" in message):\n",
    "    print(\"讚讚\")\n",
    "else:\n",
    "    print(\"我還在\")"
   ]
  },
  {
   "cell_type": "code",
   "execution_count": null,
   "metadata": {},
   "outputs": [],
   "source": []
  }
 ],
 "metadata": {
  "kernelspec": {
   "display_name": "Python 3",
   "language": "python",
   "name": "python3"
  },
  "language_info": {
   "codemirror_mode": {
    "name": "ipython",
    "version": 3
   },
   "file_extension": ".py",
   "mimetype": "text/x-python",
   "name": "python",
   "nbconvert_exporter": "python",
   "pygments_lexer": "ipython3",
   "version": "3.7.4"
  }
 },
 "nbformat": 4,
 "nbformat_minor": 2
}
