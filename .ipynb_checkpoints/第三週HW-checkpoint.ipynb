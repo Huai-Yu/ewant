{
 "cells": [
  {
   "cell_type": "code",
   "execution_count": 1,
   "metadata": {},
   "outputs": [],
   "source": [
    "%matplotlib inline\n",
    "import numpy as np\n",
    "import matplotlib.pyplot as plt"
   ]
  },
  {
   "cell_type": "markdown",
   "metadata": {},
   "source": [
    "# 第一題"
   ]
  },
  {
   "cell_type": "code",
   "execution_count": 10,
   "metadata": {},
   "outputs": [],
   "source": [
    "grades = np.random.randint(0, 101, (3,10,5))"
   ]
  },
  {
   "cell_type": "code",
   "execution_count": 11,
   "metadata": {},
   "outputs": [],
   "source": [
    "weights = np.array([0.25, 0.25, 0.25, 0.15, 0.10])"
   ]
  },
  {
   "cell_type": "code",
   "execution_count": 12,
   "metadata": {
    "scrolled": false
   },
   "outputs": [
    {
     "data": {
      "text/plain": [
       "array([[[ 34,  23,   2,  88,  24],\n",
       "        [ 29, 100,  17,   2,  55],\n",
       "        [  2,  84,  88,  39,  57],\n",
       "        [  2,  26,  15,  23,  86],\n",
       "        [ 74,  70,  12,  70,  21],\n",
       "        [ 41,  59,  89,  20,  42],\n",
       "        [  4,  97,  26,  54,  68],\n",
       "        [100,  85,  32,  30,  89],\n",
       "        [ 29,  56,  23,  33,  41],\n",
       "        [ 76,   2,   9,  55,  34]],\n",
       "\n",
       "       [[ 59,   7,  60,  30,  70],\n",
       "        [ 86,  54,  63,  84,   9],\n",
       "        [ 98,  10,  63,   5,  62],\n",
       "        [ 62,  43,  66,  97,  42],\n",
       "        [ 37,  72,  87,  14,  83],\n",
       "        [  6,  44,  23,  21,  16],\n",
       "        [ 97,  23,   1,  93,  28],\n",
       "        [  8,  39,  51,  88,   6],\n",
       "        [ 54,  20,  23,  70,  26],\n",
       "        [ 37,  14,  44,  53,  60]],\n",
       "\n",
       "       [[ 90,  44,  42,   9,  55],\n",
       "        [ 87,  32,   4,  62,  86],\n",
       "        [ 20,  24,  77,  97,  64],\n",
       "        [ 18,  50,  23,  49,  59],\n",
       "        [ 88,  40,  97,  16,  60],\n",
       "        [ 57,  40,  95,  55,  17],\n",
       "        [ 48,   5,  18,  13,  69],\n",
       "        [  0,  67,  29,  66,  96],\n",
       "        [ 46,  95,  68,  21,  19],\n",
       "        [ 49,   3,   1,  58,  35]]])"
      ]
     },
     "execution_count": 12,
     "metadata": {},
     "output_type": "execute_result"
    }
   ],
   "source": [
    "grades"
   ]
  },
  {
   "cell_type": "code",
   "execution_count": 13,
   "metadata": {},
   "outputs": [],
   "source": [
    "x = np.dot(grades, weights)"
   ]
  },
  {
   "cell_type": "code",
   "execution_count": 14,
   "metadata": {},
   "outputs": [
    {
     "data": {
      "text/plain": [
       "array([[30.35, 42.3 , 55.05, 22.8 , 51.6 , 54.45, 46.65, 67.65, 36.05,\n",
       "        33.4 ],\n",
       "       [43.  , 64.25, 49.7 , 61.5 , 59.4 , 23.  , 47.  , 38.3 , 37.35,\n",
       "        37.7 ],\n",
       "       [50.85, 48.65, 51.2 , 36.  , 64.65, 57.95, 26.6 , 43.5 , 57.3 ,\n",
       "        25.45]])"
      ]
     },
     "execution_count": 14,
     "metadata": {},
     "output_type": "execute_result"
    }
   ],
   "source": [
    "x"
   ]
  },
  {
   "cell_type": "code",
   "execution_count": 17,
   "metadata": {},
   "outputs": [],
   "source": [
    "y = np.mean(x,1)"
   ]
  },
  {
   "cell_type": "code",
   "execution_count": 18,
   "metadata": {},
   "outputs": [
    {
     "data": {
      "text/plain": [
       "array([44.03 , 46.12 , 46.215])"
      ]
     },
     "execution_count": 18,
     "metadata": {},
     "output_type": "execute_result"
    }
   ],
   "source": [
    "y"
   ]
  },
  {
   "cell_type": "markdown",
   "metadata": {},
   "source": [
    "# 第二題"
   ]
  },
  {
   "cell_type": "code",
   "execution_count": 19,
   "metadata": {},
   "outputs": [],
   "source": [
    "scores = np.random.randint(0, 101, 40)"
   ]
  },
  {
   "cell_type": "code",
   "execution_count": 20,
   "metadata": {},
   "outputs": [
    {
     "data": {
      "text/plain": [
       "array([35, 75, 55, 33, 70, 11, 96, 47, 22, 35, 40, 54, 72, 77, 59, 84, 44,\n",
       "       39, 28,  9, 42, 71, 54,  0, 85, 75, 37, 19, 72, 74, 49, 91, 41, 87,\n",
       "       89, 66, 74, 51, 50,  3])"
      ]
     },
     "execution_count": 20,
     "metadata": {},
     "output_type": "execute_result"
    }
   ],
   "source": [
    "scores"
   ]
  },
  {
   "cell_type": "code",
   "execution_count": 22,
   "metadata": {},
   "outputs": [
    {
     "name": "stdout",
     "output_type": "stream",
     "text": [
      "最高分 96 最低分 0 及格人數 16 平均數 52.875 標準差 25.264785275161156\n"
     ]
    }
   ],
   "source": [
    "print(\"最高分\", scores.max(),\n",
    "      \"最低分\", scores.min(), \n",
    "      \"及格人數\", len(scores[scores>60]), \n",
    "      \"平均數\", scores.mean(),\n",
    "      \"標準差\", scores.std())"
   ]
  },
  {
   "cell_type": "code",
   "execution_count": 23,
   "metadata": {},
   "outputs": [
    {
     "data": {
      "text/plain": [
       "(array([3., 2., 2., 4., 6., 6., 2., 8., 3., 4.]),\n",
       " array([ 0. ,  9.6, 19.2, 28.8, 38.4, 48. , 57.6, 67.2, 76.8, 86.4, 96. ]),\n",
       " <a list of 10 Patch objects>)"
      ]
     },
     "execution_count": 23,
     "metadata": {},
     "output_type": "execute_result"
    },
    {
     "data": {
      "image/png": "[encoded data removed]",
      "text/plain": [
       "<Figure size 432x288 with 1 Axes>"
      ]
     },
     "metadata": {
      "needs_background": "light"
     },
     "output_type": "display_data"
    }
   ],
   "source": [
    "plt.hist(scores, bins=10)"
   ]
  },
  {
   "cell_type": "code",
   "execution_count": null,
   "metadata": {},
   "outputs": [],
   "source": []
  }
 ],
 "metadata": {
  "kernelspec": {
   "display_name": "Python 3",
   "language": "python",
   "name": "python3"
  },
  "language_info": {
   "codemirror_mode": {
    "name": "ipython",
    "version": 3
   },
   "file_extension": ".py",
   "mimetype": "text/x-python",
   "name": "python",
   "nbconvert_exporter": "python",
   "pygments_lexer": "ipython3",
   "version": "3.7.4"
  }
 },
 "nbformat": 4,
 "nbformat_minor": 2
}
